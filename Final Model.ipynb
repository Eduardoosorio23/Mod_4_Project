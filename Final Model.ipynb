{
 "cells": [
  {
   "cell_type": "code",
   "execution_count": 1,
   "metadata": {},
   "outputs": [
    {
     "name": "stderr",
     "output_type": "stream",
     "text": [
      "[nltk_data] Downloading package wordnet to\n",
      "[nltk_data]     C:\\Users\\eduar\\AppData\\Roaming\\nltk_data...\n",
      "[nltk_data]   Package wordnet is already up-to-date!\n"
     ]
    }
   ],
   "source": [
    "import nltk\n",
    "from nltk.corpus import stopwords\n",
    "import string\n",
    "from nltk import word_tokenize, FreqDist\n",
    "from sklearn.feature_extraction.text import TfidfVectorizer\n",
    "from sklearn.metrics import accuracy_score\n",
    "from sklearn.ensemble import RandomForestClassifier\n",
    "from sklearn.naive_bayes import MultinomialNB\n",
    "from sklearn.model_selection import train_test_split\n",
    "from sklearn.metrics import plot_confusion_matrix\n",
    "from sklearn.preprocessing import OrdinalEncoder\n",
    "from sklearn.metrics import classification_report, confusion_matrix\n",
    "from sklearn.model_selection import GridSearchCV\n",
    "from collections import Counter\n",
    "import pandas as pd\n",
    "import numpy as np\n",
    "import matplotlib.pyplot as plt\n",
    "import seaborn as sns\n",
    "# sns.set_style('darkgrid')\n",
    "%matplotlib inline\n",
    "from sklearn.manifold import TSNE\n",
    "nltk.download('wordnet')\n",
    "import string\n",
    "from  nltk import FreqDist\n",
    "from nltk.stem.wordnet import WordNetLemmatizer\n",
    "from nltk.collocations import *"
   ]
  },
  {
   "cell_type": "markdown",
   "metadata": {},
   "source": [
    "## Preprocessing:"
   ]
  },
  {
   "cell_type": "code",
   "execution_count": 2,
   "metadata": {},
   "outputs": [
    {
     "data": {
      "text/html": [
       "<div>\n",
       "<style scoped>\n",
       "    .dataframe tbody tr th:only-of-type {\n",
       "        vertical-align: middle;\n",
       "    }\n",
       "\n",
       "    .dataframe tbody tr th {\n",
       "        vertical-align: top;\n",
       "    }\n",
       "\n",
       "    .dataframe thead th {\n",
       "        text-align: right;\n",
       "    }\n",
       "</style>\n",
       "<table border=\"1\" class=\"dataframe\">\n",
       "  <thead>\n",
       "    <tr style=\"text-align: right;\">\n",
       "      <th></th>\n",
       "      <th>Tweet</th>\n",
       "      <th>Subject_of_tweet</th>\n",
       "      <th>Emotion</th>\n",
       "    </tr>\n",
       "  </thead>\n",
       "  <tbody>\n",
       "    <tr>\n",
       "      <td>0</td>\n",
       "      <td>.@wesley83 I have a 3G iPhone. After 3 hrs twe...</td>\n",
       "      <td>iPhone</td>\n",
       "      <td>0</td>\n",
       "    </tr>\n",
       "    <tr>\n",
       "      <td>1</td>\n",
       "      <td>@jessedee Know about @fludapp ? Awesome iPad/i...</td>\n",
       "      <td>iPad or iPhone App</td>\n",
       "      <td>1</td>\n",
       "    </tr>\n",
       "    <tr>\n",
       "      <td>2</td>\n",
       "      <td>@swonderlin Can not wait for #iPad 2 also. The...</td>\n",
       "      <td>iPad</td>\n",
       "      <td>1</td>\n",
       "    </tr>\n",
       "    <tr>\n",
       "      <td>3</td>\n",
       "      <td>@sxsw I hope this year's festival isn't as cra...</td>\n",
       "      <td>iPad or iPhone App</td>\n",
       "      <td>0</td>\n",
       "    </tr>\n",
       "    <tr>\n",
       "      <td>4</td>\n",
       "      <td>@sxtxstate great stuff on Fri #SXSW: Marissa M...</td>\n",
       "      <td>Google</td>\n",
       "      <td>1</td>\n",
       "    </tr>\n",
       "    <tr>\n",
       "      <td>...</td>\n",
       "      <td>...</td>\n",
       "      <td>...</td>\n",
       "      <td>...</td>\n",
       "    </tr>\n",
       "    <tr>\n",
       "      <td>3543</td>\n",
       "      <td>@mention your PR guy just convinced me to swit...</td>\n",
       "      <td>iPhone</td>\n",
       "      <td>1</td>\n",
       "    </tr>\n",
       "    <tr>\n",
       "      <td>3544</td>\n",
       "      <td>&amp;quot;papyrus...sort of like the ipad&amp;quot; - ...</td>\n",
       "      <td>iPad</td>\n",
       "      <td>1</td>\n",
       "    </tr>\n",
       "    <tr>\n",
       "      <td>3545</td>\n",
       "      <td>Diller says Google TV &amp;quot;might be run over ...</td>\n",
       "      <td>Other Google product or service</td>\n",
       "      <td>0</td>\n",
       "    </tr>\n",
       "    <tr>\n",
       "      <td>3546</td>\n",
       "      <td>I've always used Camera+ for my iPhone b/c it ...</td>\n",
       "      <td>iPad or iPhone App</td>\n",
       "      <td>1</td>\n",
       "    </tr>\n",
       "    <tr>\n",
       "      <td>3547</td>\n",
       "      <td>Ipad everywhere. #SXSW {link}</td>\n",
       "      <td>iPad</td>\n",
       "      <td>1</td>\n",
       "    </tr>\n",
       "  </tbody>\n",
       "</table>\n",
       "<p>3548 rows × 3 columns</p>\n",
       "</div>"
      ],
      "text/plain": [
       "                                                  Tweet  \\\n",
       "0     .@wesley83 I have a 3G iPhone. After 3 hrs twe...   \n",
       "1     @jessedee Know about @fludapp ? Awesome iPad/i...   \n",
       "2     @swonderlin Can not wait for #iPad 2 also. The...   \n",
       "3     @sxsw I hope this year's festival isn't as cra...   \n",
       "4     @sxtxstate great stuff on Fri #SXSW: Marissa M...   \n",
       "...                                                 ...   \n",
       "3543  @mention your PR guy just convinced me to swit...   \n",
       "3544  &quot;papyrus...sort of like the ipad&quot; - ...   \n",
       "3545  Diller says Google TV &quot;might be run over ...   \n",
       "3546  I've always used Camera+ for my iPhone b/c it ...   \n",
       "3547                      Ipad everywhere. #SXSW {link}   \n",
       "\n",
       "                     Subject_of_tweet  Emotion  \n",
       "0                              iPhone        0  \n",
       "1                  iPad or iPhone App        1  \n",
       "2                                iPad        1  \n",
       "3                  iPad or iPhone App        0  \n",
       "4                              Google        1  \n",
       "...                               ...      ...  \n",
       "3543                           iPhone        1  \n",
       "3544                             iPad        1  \n",
       "3545  Other Google product or service        0  \n",
       "3546               iPad or iPhone App        1  \n",
       "3547                             iPad        1  \n",
       "\n",
       "[3548 rows x 3 columns]"
      ]
     },
     "execution_count": 2,
     "metadata": {},
     "output_type": "execute_result"
    }
   ],
   "source": [
    "#Negative emotion = 0\n",
    "\n",
    "#Positive emotion = 1\n",
    "data = pd.read_csv('Data/Twitter_sentiment_processed.csv', encoding='latin1')\n",
    "data"
   ]
  },
  {
   "cell_type": "code",
   "execution_count": 3,
   "metadata": {},
   "outputs": [],
   "source": [
    "#Dropped 'Subject of tweets' column\n",
    "data.drop(columns=['Subject_of_tweet'], inplace=True)"
   ]
  },
  {
   "cell_type": "code",
   "execution_count": 4,
   "metadata": {},
   "outputs": [
    {
     "data": {
      "text/plain": [
       "1    2978\n",
       "0     570\n",
       "Name: Emotion, dtype: int64"
      ]
     },
     "execution_count": 4,
     "metadata": {},
     "output_type": "execute_result"
    }
   ],
   "source": [
    "#Looking at value counts\n",
    "data['Emotion'].value_counts()"
   ]
  },
  {
   "cell_type": "code",
   "execution_count": 5,
   "metadata": {
    "scrolled": true
   },
   "outputs": [
    {
     "name": "stdout",
     "output_type": "stream",
     "text": [
      "<class 'pandas.core.frame.DataFrame'>\n",
      "RangeIndex: 3548 entries, 0 to 3547\n",
      "Data columns (total 2 columns):\n",
      "Tweet      3548 non-null object\n",
      "Emotion    3548 non-null int64\n",
      "dtypes: int64(1), object(1)\n",
      "memory usage: 55.6+ KB\n"
     ]
    }
   ],
   "source": [
    "data.info()"
   ]
  },
  {
   "cell_type": "code",
   "execution_count": 6,
   "metadata": {},
   "outputs": [],
   "source": [
    "#Changing the data type to str to make sure it can be tokenized\n",
    "data['Tweet'] = data['Tweet'].astype('str')"
   ]
  },
  {
   "cell_type": "code",
   "execution_count": 7,
   "metadata": {},
   "outputs": [],
   "source": [
    "# Splitting the target varible from the rest of the data set and dropped subject of tweet for the time being\n",
    "y = data['Emotion']\n",
    "X = data['Tweet']"
   ]
  },
  {
   "cell_type": "markdown",
   "metadata": {},
   "source": [
    "## Train-Test Split:"
   ]
  },
  {
   "cell_type": "code",
   "execution_count": 8,
   "metadata": {},
   "outputs": [],
   "source": [
    "X_train, X_test, y_train, y_test = train_test_split(X, y, test_size=.20, random_state=42)"
   ]
  },
  {
   "cell_type": "code",
   "execution_count": 9,
   "metadata": {},
   "outputs": [],
   "source": [
    "#created stop words list\n",
    "stopwords_list = stopwords.words('english') + list(string.punctuation)\n",
    "stopwords_list += [\"''\", '\"\"', '...', '``', 'link', 'mention', 'sxsw', \"'\", \"'s\", \"n't\", 'rt']"
   ]
  },
  {
   "cell_type": "code",
   "execution_count": 10,
   "metadata": {},
   "outputs": [],
   "source": [
    "#tokenized and lemmantized the tweets\n",
    "def process_tweet(tweet):\n",
    "    lemmatizer = WordNetLemmatizer()\n",
    "    tokens = nltk.word_tokenize(tweet)\n",
    "    stopwords_removed = [lemmatizer.lemmatize(token.lower()) for token in tokens if token.lower() not in stopwords_list]\n",
    "    return stopwords_removed "
   ]
  },
  {
   "cell_type": "code",
   "execution_count": 11,
   "metadata": {},
   "outputs": [],
   "source": [
    "processed_data = list(map(process_tweet, X_train))"
   ]
  },
  {
   "cell_type": "code",
   "execution_count": 12,
   "metadata": {},
   "outputs": [
    {
     "data": {
      "text/plain": [
       "[\"'re\",\n",
       " 'giving',\n",
       " 'away',\n",
       " 'ipad',\n",
       " '2',\n",
       " 'creator',\n",
       " 'popular',\n",
       " 'disc',\n",
       " 'interactive',\n",
       " 'create',\n",
       " 'disc',\n",
       " 'amp',\n",
       " 'share',\n",
       " 'twitter']"
      ]
     },
     "execution_count": 12,
     "metadata": {},
     "output_type": "execute_result"
    }
   ],
   "source": [
    "processed_data[2]"
   ]
  },
  {
   "cell_type": "code",
   "execution_count": 13,
   "metadata": {},
   "outputs": [
    {
     "data": {
      "text/plain": [
       "5288"
      ]
     },
     "execution_count": 13,
     "metadata": {},
     "output_type": "execute_result"
    }
   ],
   "source": [
    "#Count of total vocabulary\n",
    "total_vocab = set()\n",
    "for tweet in processed_data:\n",
    "    total_vocab.update(tweet)\n",
    "len(total_vocab)"
   ]
  },
  {
   "cell_type": "code",
   "execution_count": 14,
   "metadata": {},
   "outputs": [],
   "source": [
    "#Concating everything to look at frequency distributions\n",
    "tweet_concat = []\n",
    "\n",
    "for tweet in processed_data:\n",
    "    tweet_concat += tweet"
   ]
  },
  {
   "cell_type": "code",
   "execution_count": 15,
   "metadata": {},
   "outputs": [
    {
     "data": {
      "text/plain": [
       "[('ipad', 944),\n",
       " ('apple', 834),\n",
       " ('google', 697),\n",
       " ('iphone', 549),\n",
       " ('quot', 502),\n",
       " ('store', 471),\n",
       " ('2', 453),\n",
       " ('app', 345),\n",
       " ('new', 309),\n",
       " ('austin', 263),\n",
       " ('amp', 178),\n",
       " ('android', 174),\n",
       " ('ipad2', 172),\n",
       " ('get', 170),\n",
       " ('launch', 155),\n",
       " ('time', 138),\n",
       " ('one', 137),\n",
       " ('line', 131),\n",
       " ('like', 125),\n",
       " ('party', 125),\n",
       " ('pop-up', 125),\n",
       " ('social', 121),\n",
       " ('circle', 120),\n",
       " ('great', 114),\n",
       " ('day', 114),\n",
       " ('free', 110),\n",
       " ('via', 106),\n",
       " ('today', 106),\n",
       " (\"'m\", 105),\n",
       " ('win', 102),\n",
       " ('map', 99),\n",
       " ('cool', 97),\n",
       " ('go', 94),\n",
       " ('people', 92),\n",
       " ('sxswi', 91),\n",
       " ('mobile', 91),\n",
       " ('apps', 87),\n",
       " ('come', 86),\n",
       " ('network', 85),\n",
       " ('good', 81),\n",
       " ('temporary', 81),\n",
       " ('love', 78),\n",
       " ('need', 77),\n",
       " ('awesome', 77),\n",
       " ('got', 77),\n",
       " ('u', 75),\n",
       " ('opening', 74),\n",
       " (\"'re\", 72),\n",
       " ('open', 71),\n",
       " ('downtown', 70),\n",
       " ('going', 69),\n",
       " ('see', 69),\n",
       " ('user', 69),\n",
       " ('even', 65),\n",
       " ('w/', 64),\n",
       " ('want', 62),\n",
       " ('check', 62),\n",
       " ('mayer', 62),\n",
       " ('thanks', 61),\n",
       " ('year', 61),\n",
       " ('think', 60),\n",
       " ('popup', 58),\n",
       " ('first', 58),\n",
       " ('called', 58),\n",
       " ('look', 56),\n",
       " ('would', 55),\n",
       " ('video', 55),\n",
       " ('next', 54),\n",
       " ('major', 54),\n",
       " ('best', 53),\n",
       " ('thing', 53),\n",
       " ('around', 53),\n",
       " ('make', 52),\n",
       " ('â\\x89ã\\x9bã\\x8f', 52),\n",
       " ('pop', 51),\n",
       " ('marissa', 51),\n",
       " ('news', 50),\n",
       " ('really', 50),\n",
       " ('design', 50),\n",
       " (\"'ll\", 50),\n",
       " ('use', 49),\n",
       " ('phone', 48),\n",
       " ('panel', 48),\n",
       " ('case', 47),\n",
       " (\"'ve\", 47),\n",
       " ('know', 47),\n",
       " ('game', 47),\n",
       " ('4', 47),\n",
       " ('could', 46),\n",
       " ('tech', 46),\n",
       " ('ever', 45),\n",
       " ('product', 44),\n",
       " ('take', 44),\n",
       " ('nice', 43),\n",
       " ('guy', 42),\n",
       " ('say', 42),\n",
       " ('heard', 42),\n",
       " ('set', 41),\n",
       " ('using', 41),\n",
       " ('smart', 41),\n",
       " ('still', 41),\n",
       " ('way', 41),\n",
       " ('coming', 40),\n",
       " ('session', 40),\n",
       " ('big', 40),\n",
       " ('--', 40),\n",
       " ('last', 40),\n",
       " ('talk', 39),\n",
       " ('begin', 39),\n",
       " ('work', 39),\n",
       " ('marketing', 39),\n",
       " ('technology', 39),\n",
       " ('fun', 39),\n",
       " ('shop', 37),\n",
       " ('gt', 37),\n",
       " ('better', 37),\n",
       " ('buy', 37),\n",
       " ('right', 37),\n",
       " ('world', 37),\n",
       " ('wow', 37),\n",
       " ('yes', 36),\n",
       " ('possibly', 36),\n",
       " ('photo', 36),\n",
       " ('also', 36),\n",
       " ('everyone', 35),\n",
       " ('conference', 35),\n",
       " ('team', 35),\n",
       " ('may', 35),\n",
       " ('much', 34),\n",
       " ('away', 33),\n",
       " ('life', 33),\n",
       " ('wait', 33),\n",
       " ('week', 32),\n",
       " ('every', 32),\n",
       " ('ipads', 32),\n",
       " ('tweet', 31),\n",
       " ('looking', 31),\n",
       " ('back', 31),\n",
       " ('keep', 30),\n",
       " ('place', 30),\n",
       " ('rumor', 30),\n",
       " ('temp', 29),\n",
       " ('hand', 29),\n",
       " ('lot', 29),\n",
       " ('getting', 29),\n",
       " ('hey', 29),\n",
       " ('1', 29),\n",
       " ('long', 29),\n",
       " ('many', 29),\n",
       " ('music', 29),\n",
       " ('digital', 28),\n",
       " ('show', 28),\n",
       " ('live', 28),\n",
       " ('search', 28),\n",
       " ('3', 28),\n",
       " ('fast', 28),\n",
       " ('already', 28),\n",
       " ('release', 27),\n",
       " ('tomorrow', 27),\n",
       " ('future', 27),\n",
       " ('giving', 26),\n",
       " ('well', 26),\n",
       " ('tonight', 26),\n",
       " ('far', 26),\n",
       " ('2011', 26),\n",
       " ('interactive', 25),\n",
       " ('ca', 25),\n",
       " ('tell', 25),\n",
       " ('action', 25),\n",
       " ('detail', 25),\n",
       " ('available', 25),\n",
       " ('web', 25),\n",
       " ('tapworthy', 25),\n",
       " ('building', 25),\n",
       " ('battery', 25),\n",
       " ('amazing', 25),\n",
       " ('sell', 25),\n",
       " ('update', 24),\n",
       " ('blackberry', 24),\n",
       " ('ready', 24),\n",
       " ('event', 24),\n",
       " ('give', 24),\n",
       " ('booth', 24),\n",
       " ('someone', 24),\n",
       " ('excited', 24),\n",
       " ('tv', 24),\n",
       " ('6th', 24),\n",
       " ('info', 24),\n",
       " ('device', 24),\n",
       " ('twitter', 23),\n",
       " ('brilliant', 23),\n",
       " ('hour', 23),\n",
       " ('yet', 23),\n",
       " ('feature', 23),\n",
       " ('winning', 23),\n",
       " ('geek', 23),\n",
       " ('genius', 23),\n",
       " ('traffic', 23),\n",
       " ('lt', 23),\n",
       " ('interesting', 23)]"
      ]
     },
     "execution_count": 15,
     "metadata": {},
     "output_type": "execute_result"
    }
   ],
   "source": [
    "#Looking at the top 200 most common words\n",
    "tweet_freqdist = FreqDist(tweet_concat)\n",
    "tweet_freqdist.most_common(200)"
   ]
  },
  {
   "cell_type": "code",
   "execution_count": 16,
   "metadata": {
    "scrolled": true
   },
   "outputs": [
    {
     "data": {
      "text/plain": [
       "[('ipad', 944),\n",
       " ('apple', 834),\n",
       " ('google', 697),\n",
       " ('iphone', 549),\n",
       " ('quot', 502),\n",
       " ('store', 471),\n",
       " ('2', 453),\n",
       " ('app', 345),\n",
       " ('new', 309),\n",
       " ('austin', 263),\n",
       " ('amp', 178),\n",
       " ('android', 174),\n",
       " ('ipad2', 172),\n",
       " ('get', 170),\n",
       " ('launch', 155),\n",
       " ('time', 138),\n",
       " ('one', 137),\n",
       " ('line', 131),\n",
       " ('like', 125),\n",
       " ('party', 125),\n",
       " ('pop-up', 125),\n",
       " ('social', 121),\n",
       " ('circle', 120),\n",
       " ('great', 114),\n",
       " ('day', 114),\n",
       " ('free', 110),\n",
       " ('via', 106),\n",
       " ('today', 106),\n",
       " (\"'m\", 105),\n",
       " ('win', 102),\n",
       " ('map', 99),\n",
       " ('cool', 97),\n",
       " ('go', 94),\n",
       " ('people', 92),\n",
       " ('sxswi', 91),\n",
       " ('mobile', 91),\n",
       " ('apps', 87),\n",
       " ('come', 86),\n",
       " ('network', 85),\n",
       " ('good', 81),\n",
       " ('temporary', 81),\n",
       " ('love', 78),\n",
       " ('need', 77),\n",
       " ('awesome', 77),\n",
       " ('got', 77),\n",
       " ('u', 75),\n",
       " ('opening', 74),\n",
       " (\"'re\", 72),\n",
       " ('open', 71),\n",
       " ('downtown', 70)]"
      ]
     },
     "execution_count": 16,
     "metadata": {},
     "output_type": "execute_result"
    }
   ],
   "source": [
    "tweet_freq_50 = tweet_freqdist.most_common(50)\n",
    "tweet_freq_50"
   ]
  },
  {
   "cell_type": "code",
   "execution_count": 17,
   "metadata": {},
   "outputs": [],
   "source": [
    "class Percent(float):\n",
    "    def __str__(self):\n",
    "        return '{:.2%}'.format(self)"
   ]
  },
  {
   "cell_type": "code",
   "execution_count": 18,
   "metadata": {},
   "outputs": [],
   "source": [
    "x = 3548\n",
    "freq_percentage = [(t[0], t[1]/x) for t in tweet_freq_50]"
   ]
  },
  {
   "cell_type": "code",
   "execution_count": 19,
   "metadata": {},
   "outputs": [
    {
     "data": {
      "text/plain": [
       "[('ipad', 0.266065388951522),\n",
       " ('apple', 0.2350620067643743),\n",
       " ('google', 0.1964487034949267),\n",
       " ('iphone', 0.15473506200676437),\n",
       " ('quot', 0.1414881623449831),\n",
       " ('store', 0.13275084554678693),\n",
       " ('2', 0.12767756482525366),\n",
       " ('app', 0.09723788049605411),\n",
       " ('new', 0.0870913190529876),\n",
       " ('austin', 0.07412626832018038),\n",
       " ('amp', 0.050169109357384445),\n",
       " ('android', 0.04904171364148816),\n",
       " ('ipad2', 0.048478015783540024),\n",
       " ('get', 0.047914317925591886),\n",
       " ('launch', 0.04368658399098083),\n",
       " ('time', 0.03889515219842165),\n",
       " ('one', 0.03861330326944758),\n",
       " ('line', 0.036922209695603156),\n",
       " ('like', 0.035231116121758735),\n",
       " ('party', 0.035231116121758735),\n",
       " ('pop-up', 0.035231116121758735),\n",
       " ('social', 0.03410372040586246),\n",
       " ('circle', 0.033821871476888386),\n",
       " ('great', 0.032130777903043965),\n",
       " ('day', 0.032130777903043965),\n",
       " ('free', 0.03100338218714769),\n",
       " ('via', 0.02987598647125141),\n",
       " ('today', 0.02987598647125141),\n",
       " (\"'m\", 0.02959413754227734),\n",
       " ('win', 0.02874859075535513),\n",
       " ('map', 0.02790304396843292),\n",
       " ('cool', 0.02733934611048478),\n",
       " ('go', 0.02649379932356257),\n",
       " ('people', 0.02593010146561443),\n",
       " ('sxswi', 0.02564825253664036),\n",
       " ('mobile', 0.02564825253664036),\n",
       " ('apps', 0.02452085682074408),\n",
       " ('come', 0.024239007891770012),\n",
       " ('network', 0.023957158962795943),\n",
       " ('good', 0.022829763246899663),\n",
       " ('temporary', 0.022829763246899663),\n",
       " ('love', 0.021984216459977453),\n",
       " ('need', 0.021702367531003384),\n",
       " ('awesome', 0.021702367531003384),\n",
       " ('got', 0.021702367531003384),\n",
       " ('u', 0.021138669673055242),\n",
       " ('opening', 0.020856820744081173),\n",
       " (\"'re\", 0.020293122886133032),\n",
       " ('open', 0.020011273957158963),\n",
       " ('downtown', 0.019729425028184894)]"
      ]
     },
     "execution_count": 19,
     "metadata": {},
     "output_type": "execute_result"
    }
   ],
   "source": [
    "freq_percentage"
   ]
  },
  {
   "cell_type": "code",
   "execution_count": 20,
   "metadata": {},
   "outputs": [],
   "source": [
    "#TF-IDF Vectorizing the tokens\n",
    "from sklearn.feature_extraction.text import TfidfVectorizer\n",
    "vectorizer = TfidfVectorizer()"
   ]
  },
  {
   "cell_type": "code",
   "execution_count": 21,
   "metadata": {},
   "outputs": [
    {
     "data": {
      "text/plain": [
       "(2838, 5429)"
      ]
     },
     "execution_count": 21,
     "metadata": {},
     "output_type": "execute_result"
    }
   ],
   "source": [
    "tf_idf_data_train = vectorizer.fit_transform(X_train)\n",
    "\n",
    "tf_idf_data_test = vectorizer.transform(X_test)\n",
    "\n",
    "tf_idf_data_train.shape"
   ]
  },
  {
   "cell_type": "code",
   "execution_count": 22,
   "metadata": {},
   "outputs": [
    {
     "name": "stdout",
     "output_type": "stream",
     "text": [
      "Average Number of Non-Zero Elements in Vectorized Articles: 16.634249471458773\n",
      "Percentage of columns containing 0: 0.996936038041728\n"
     ]
    }
   ],
   "source": [
    "#Looking at sparse vectors\n",
    "non_zero_cols = tf_idf_data_train.nnz / float(tf_idf_data_train.shape[0])\n",
    "print(\"Average Number of Non-Zero Elements in Vectorized Articles: {}\".format(non_zero_cols))\n",
    "\n",
    "percent_sparse = 1 - (non_zero_cols / float(tf_idf_data_train.shape[1]))\n",
    "print('Percentage of columns containing 0: {}'.format(percent_sparse))"
   ]
  },
  {
   "cell_type": "code",
   "execution_count": 23,
   "metadata": {},
   "outputs": [],
   "source": [
    "from imblearn.over_sampling import SMOTE\n",
    "\n",
    "smote = SMOTE()"
   ]
  },
  {
   "cell_type": "code",
   "execution_count": 24,
   "metadata": {},
   "outputs": [],
   "source": [
    "X_train_resampled, y_train_resampled = SMOTE().fit_resample(tf_idf_data_train, y_train)"
   ]
  },
  {
   "cell_type": "code",
   "execution_count": 25,
   "metadata": {},
   "outputs": [
    {
     "name": "stdout",
     "output_type": "stream",
     "text": [
      "Original dataset shape Counter({1: 2383, 0: 2383})\n"
     ]
    }
   ],
   "source": [
    "print('Original dataset shape %s' % Counter(y_train_resampled))"
   ]
  },
  {
   "cell_type": "markdown",
   "metadata": {},
   "source": [
    "## Initial Model:"
   ]
  },
  {
   "cell_type": "code",
   "execution_count": 26,
   "metadata": {},
   "outputs": [],
   "source": [
    "#Running random forest and Naive Bayes to check models accuracy\n",
    "rf_classifier = RandomForestClassifier(n_estimators=100)\n",
    "nb_classifier = MultinomialNB()"
   ]
  },
  {
   "cell_type": "code",
   "execution_count": 27,
   "metadata": {},
   "outputs": [],
   "source": [
    "#Fitting the classifiers\n",
    "rf_classifier.fit(X_train_resampled, y_train_resampled)\n",
    "rf_train_preds = rf_classifier.predict(X_train_resampled)\n",
    "rf_test_preds = rf_classifier.predict(tf_idf_data_test)"
   ]
  },
  {
   "cell_type": "code",
   "execution_count": 28,
   "metadata": {},
   "outputs": [
    {
     "name": "stdout",
     "output_type": "stream",
     "text": [
      "Random Forest\n",
      "Training Accuracy: 1.0 \t\t Testing Accuracy: 0.8761\n"
     ]
    }
   ],
   "source": [
    "rf_train_score = accuracy_score(y_train_resampled, rf_train_preds)\n",
    "rf_test_score = accuracy_score(y_test, rf_test_preds)\n",
    "\n",
    "print('Random Forest')\n",
    "print(\"Training Accuracy: {:.4} \\t\\t Testing Accuracy: {:.4}\".format(rf_train_score, rf_test_score))"
   ]
  },
  {
   "cell_type": "code",
   "execution_count": 29,
   "metadata": {},
   "outputs": [],
   "source": [
    "nb_classifier.fit(X_train_resampled, y_train_resampled)\n",
    "nb_train_preds = nb_classifier.predict(X_train_resampled)\n",
    "nb_test_preds = nb_classifier.predict(tf_idf_data_test)"
   ]
  },
  {
   "cell_type": "code",
   "execution_count": 30,
   "metadata": {
    "scrolled": true
   },
   "outputs": [
    {
     "name": "stdout",
     "output_type": "stream",
     "text": [
      "Multinomial Naive Bayes\n",
      "Training Accuracy: 0.9587 \t\t Testing Accuracy: 0.8169\n"
     ]
    }
   ],
   "source": [
    "nb_train_score = accuracy_score(y_train_resampled, nb_train_preds)\n",
    "nb_test_score = accuracy_score(y_test, nb_test_preds)\n",
    "\n",
    "print(\"Multinomial Naive Bayes\")\n",
    "print(\"Training Accuracy: {:.4} \\t\\t Testing Accuracy: {:.4}\".format(nb_train_score, nb_test_score))"
   ]
  },
  {
   "cell_type": "code",
   "execution_count": 32,
   "metadata": {
    "scrolled": true
   },
   "outputs": [
    {
     "data": {
      "text/plain": [
       "<sklearn.metrics._plot.confusion_matrix.ConfusionMatrixDisplay at 0x225776d37b8>"
      ]
     },
     "execution_count": 32,
     "metadata": {},
     "output_type": "execute_result"
    },
    {
     "data": {
      "image/png": "[encoded data removed]",
      "text/plain": [
       "<Figure size 432x288 with 2 Axes>"
      ]
     },
     "metadata": {
      "needs_background": "light"
     },
     "output_type": "display_data"
    }
   ],
   "source": [
    "#Random Forest CLF\n",
    "plot_confusion_matrix(rf_classifier, tf_idf_data_test, y_test, values_format='.3g')"
   ]
  },
  {
   "cell_type": "code",
   "execution_count": 33,
   "metadata": {},
   "outputs": [
    {
     "data": {
      "text/plain": [
       "<sklearn.metrics._plot.confusion_matrix.ConfusionMatrixDisplay at 0x22577763080>"
      ]
     },
     "execution_count": 33,
     "metadata": {},
     "output_type": "execute_result"
    },
    {
     "data": {
      "image/png": "[encoded data removed]",
      "text/plain": [
       "<Figure size 432x288 with 2 Axes>"
      ]
     },
     "metadata": {
      "needs_background": "light"
     },
     "output_type": "display_data"
    }
   ],
   "source": [
    "#Naive Bayes CLF\n",
    "plot_confusion_matrix(nb_classifier, tf_idf_data_test, y_test, values_format='.3g')"
   ]
  },
  {
   "cell_type": "code",
   "execution_count": 34,
   "metadata": {
    "scrolled": true
   },
   "outputs": [],
   "source": [
    "rf_coefs = rf_classifier.feature_importances_.flatten()"
   ]
  },
  {
   "cell_type": "code",
   "execution_count": 35,
   "metadata": {},
   "outputs": [],
   "source": [
    "nb_coefs = nb_classifier.coef_.flatten()"
   ]
  },
  {
   "cell_type": "code",
   "execution_count": 36,
   "metadata": {},
   "outputs": [],
   "source": [
    "feature_names = vectorizer.get_feature_names()"
   ]
  },
  {
   "cell_type": "code",
   "execution_count": 37,
   "metadata": {},
   "outputs": [],
   "source": [
    "#zipping coef and feature names together\n",
    "zipped = zip(feature_names, rf_coefs)\n",
    "df = pd.DataFrame(zipped, columns=[\"feature\", \"value\"])\n",
    "# Sort the features by the absolute value of their coefficient\n",
    "df[\"abs_value\"] = df[\"value\"].apply(lambda x: abs(x))\n",
    "df[\"colors\"] = df[\"value\"].apply(lambda x: \"green\" if x > 0 else \"red\")\n",
    "df1_pos = df.sort_values(\"abs_value\", ascending=False)\n",
    "df1_neg = df.sort_values(\"abs_value\", ascending=True)"
   ]
  },
  {
   "cell_type": "code",
   "execution_count": 66,
   "metadata": {
    "scrolled": true
   },
   "outputs": [
    {
     "data": {
      "text/html": [
       "<div>\n",
       "<style scoped>\n",
       "    .dataframe tbody tr th:only-of-type {\n",
       "        vertical-align: middle;\n",
       "    }\n",
       "\n",
       "    .dataframe tbody tr th {\n",
       "        vertical-align: top;\n",
       "    }\n",
       "\n",
       "    .dataframe thead th {\n",
       "        text-align: right;\n",
       "    }\n",
       "</style>\n",
       "<table border=\"1\" class=\"dataframe\">\n",
       "  <thead>\n",
       "    <tr style=\"text-align: right;\">\n",
       "      <th></th>\n",
       "      <th>feature</th>\n",
       "      <th>value</th>\n",
       "      <th>abs_value</th>\n",
       "      <th>colors</th>\n",
       "    </tr>\n",
       "  </thead>\n",
       "  <tbody>\n",
       "    <tr>\n",
       "      <td>2844</td>\n",
       "      <td>link</td>\n",
       "      <td>0.018107</td>\n",
       "      <td>0.018107</td>\n",
       "      <td>green</td>\n",
       "    </tr>\n",
       "    <tr>\n",
       "      <td>2597</td>\n",
       "      <td>is</td>\n",
       "      <td>0.014064</td>\n",
       "      <td>0.014064</td>\n",
       "      <td>green</td>\n",
       "    </tr>\n",
       "    <tr>\n",
       "      <td>4743</td>\n",
       "      <td>the</td>\n",
       "      <td>0.013871</td>\n",
       "      <td>0.013871</td>\n",
       "      <td>green</td>\n",
       "    </tr>\n",
       "    <tr>\n",
       "      <td>419</td>\n",
       "      <td>at</td>\n",
       "      <td>0.013132</td>\n",
       "      <td>0.013132</td>\n",
       "      <td>green</td>\n",
       "    </tr>\n",
       "    <tr>\n",
       "      <td>3288</td>\n",
       "      <td>not</td>\n",
       "      <td>0.012359</td>\n",
       "      <td>0.012359</td>\n",
       "      <td>green</td>\n",
       "    </tr>\n",
       "    <tr>\n",
       "      <td>...</td>\n",
       "      <td>...</td>\n",
       "      <td>...</td>\n",
       "      <td>...</td>\n",
       "      <td>...</td>\n",
       "    </tr>\n",
       "    <tr>\n",
       "      <td>3992</td>\n",
       "      <td>ridculous</td>\n",
       "      <td>0.000000</td>\n",
       "      <td>0.000000</td>\n",
       "      <td>red</td>\n",
       "    </tr>\n",
       "    <tr>\n",
       "      <td>1117</td>\n",
       "      <td>corps</td>\n",
       "      <td>0.000000</td>\n",
       "      <td>0.000000</td>\n",
       "      <td>red</td>\n",
       "    </tr>\n",
       "    <tr>\n",
       "      <td>3989</td>\n",
       "      <td>rfid</td>\n",
       "      <td>0.000000</td>\n",
       "      <td>0.000000</td>\n",
       "      <td>red</td>\n",
       "    </tr>\n",
       "    <tr>\n",
       "      <td>3976</td>\n",
       "      <td>revealed</td>\n",
       "      <td>0.000000</td>\n",
       "      <td>0.000000</td>\n",
       "      <td>red</td>\n",
       "    </tr>\n",
       "    <tr>\n",
       "      <td>3898</td>\n",
       "      <td>refresh</td>\n",
       "      <td>0.000000</td>\n",
       "      <td>0.000000</td>\n",
       "      <td>red</td>\n",
       "    </tr>\n",
       "  </tbody>\n",
       "</table>\n",
       "<p>5429 rows × 4 columns</p>\n",
       "</div>"
      ],
      "text/plain": [
       "        feature     value  abs_value colors\n",
       "2844       link  0.018107   0.018107  green\n",
       "2597         is  0.014064   0.014064  green\n",
       "4743        the  0.013871   0.013871  green\n",
       "419          at  0.013132   0.013132  green\n",
       "3288        not  0.012359   0.012359  green\n",
       "...         ...       ...        ...    ...\n",
       "3992  ridculous  0.000000   0.000000    red\n",
       "1117      corps  0.000000   0.000000    red\n",
       "3989       rfid  0.000000   0.000000    red\n",
       "3976   revealed  0.000000   0.000000    red\n",
       "3898    refresh  0.000000   0.000000    red\n",
       "\n",
       "[5429 rows x 4 columns]"
      ]
     },
     "execution_count": 66,
     "metadata": {},
     "output_type": "execute_result"
    }
   ],
   "source": [
    "df1_pos"
   ]
  },
  {
   "cell_type": "code",
   "execution_count": 65,
   "metadata": {
    "scrolled": false
   },
   "outputs": [
    {
     "data": {
      "text/plain": [
       "Text(0.5, 0, 'Feature Name')"
      ]
     },
     "execution_count": 65,
     "metadata": {},
     "output_type": "execute_result"
    },
    {
     "data": {
      "image/png": "[encoded data removed]",
      "text/plain": [
       "<Figure size 864x504 with 1 Axes>"
      ]
     },
     "metadata": {
      "needs_background": "light"
     },
     "output_type": "display_data"
    }
   ],
   "source": [
    "#Random Forest top 20 most important features\n",
    "fig, ax = plt.subplots(1, 1, figsize=(12, 7))\n",
    "sns.barplot(x=\"feature\",\n",
    "            y=\"value\",\n",
    "            data=df1_pos.head(40)\n",
    "           )\n",
    "ax.set_xticklabels(ax.get_xticklabels(), rotation=90, fontsize=20)\n",
    "ax.set_title(\"Top 40 Positive Features For Random Forest\", fontsize=25)\n",
    "ax.set_ylabel(\"Coef\", fontsize=22)\n",
    "ax.set_xlabel(\"Feature Name\", fontsize=22)"
   ]
  },
  {
   "cell_type": "code",
   "execution_count": 40,
   "metadata": {},
   "outputs": [],
   "source": [
    "#zipping coef and feature names together\n",
    "zipped2 = zip(feature_names, nb_coefs)\n",
    "df2 = pd.DataFrame(zipped2, columns=[\"feature\", \"value\"])\n",
    "# Sort the features by the absolute value of their coefficient\n",
    "df2[\"abs_value\"] = df[\"value\"].apply(lambda x: abs(x))\n",
    "df2[\"colors\"] = df[\"value\"].apply(lambda x: \"green\" if x > 0 else \"red\")\n",
    "df2_pos = df.sort_values(\"abs_value\", ascending=False)\n",
    "df2_neg = df.sort_values(\"abs_value\", ascending=True)"
   ]
  },
  {
   "cell_type": "code",
   "execution_count": 41,
   "metadata": {
    "scrolled": false
   },
   "outputs": [
    {
     "data": {
      "text/plain": [
       "Text(0.5, 0, 'Feature Name')"
      ]
     },
     "execution_count": 41,
     "metadata": {},
     "output_type": "execute_result"
    },
    {
     "data": {
      "image/png": "[encoded data removed]",
      "text/plain": [
       "<Figure size 864x504 with 1 Axes>"
      ]
     },
     "metadata": {
      "needs_background": "light"
     },
     "output_type": "display_data"
    }
   ],
   "source": [
    "#Naive Bayes\n",
    "fig, ax = plt.subplots(1, 1, figsize=(12, 7))\n",
    "sns.barplot(x=\"feature\",\n",
    "            y=\"value\",\n",
    "            data=df2_pos.head(40)\n",
    "           )\n",
    "ax.set_xticklabels(ax.get_xticklabels(), rotation=90, fontsize=20)\n",
    "ax.set_title(\"Top 40 Postitive Features For Naive Bayes\", fontsize=25)\n",
    "ax.set_ylabel(\"Coef\", fontsize=22)\n",
    "ax.set_xlabel(\"Feature Name\", fontsize=22)"
   ]
  },
  {
   "cell_type": "code",
   "execution_count": 42,
   "metadata": {},
   "outputs": [],
   "source": [
    "df_freq_pos = data[data['Emotion']==1]\n",
    "df_freq_neg = data[data['Emotion']==0]"
   ]
  },
  {
   "cell_type": "code",
   "execution_count": 43,
   "metadata": {},
   "outputs": [],
   "source": [
    "pos_tweet = df_freq_pos['Tweet']\n",
    "neg_tweet = df_freq_neg['Tweet']"
   ]
  },
  {
   "cell_type": "code",
   "execution_count": 44,
   "metadata": {},
   "outputs": [],
   "source": [
    "positive_tweets = list(map(process_tweet, pos_tweet))\n",
    "negative_tweets = list(map(process_tweet, neg_tweet))"
   ]
  },
  {
   "cell_type": "code",
   "execution_count": 45,
   "metadata": {},
   "outputs": [
    {
     "data": {
      "text/plain": [
       "5051"
      ]
     },
     "execution_count": 45,
     "metadata": {},
     "output_type": "execute_result"
    }
   ],
   "source": [
    "total_tweet_pos = set()\n",
    "for comment in positive_tweets:\n",
    "    total_tweet_pos.update(comment)\n",
    "len(total_tweet_pos)"
   ]
  },
  {
   "cell_type": "code",
   "execution_count": 46,
   "metadata": {},
   "outputs": [
    {
     "data": {
      "text/plain": [
       "2020"
      ]
     },
     "execution_count": 46,
     "metadata": {},
     "output_type": "execute_result"
    }
   ],
   "source": [
    "total_tweet_neg = set()\n",
    "for comment in negative_tweets:\n",
    "    total_tweet_neg.update(comment)\n",
    "len(total_tweet_neg)"
   ]
  },
  {
   "cell_type": "code",
   "execution_count": 47,
   "metadata": {
    "scrolled": true
   },
   "outputs": [
    {
     "name": "stdout",
     "output_type": "stream",
     "text": [
      "[['jessedee', 'know', 'fludapp', 'awesome', 'ipad/iphone', 'app', \"'ll\", 'likely', 'appreciate', 'design', 'also', \"'re\", 'giving', 'free', 't'], ['swonderlin', 'wait', 'ipad', '2', 'also', 'sale']]\n"
     ]
    }
   ],
   "source": [
    "print(positive_tweets[:2])"
   ]
  },
  {
   "cell_type": "code",
   "execution_count": 64,
   "metadata": {},
   "outputs": [
    {
     "name": "stdout",
     "output_type": "stream",
     "text": [
      "[['wesley83', '3g', 'iphone', '3', 'hr', 'tweeting', 'rise_austin', 'dead', 'need', 'upgrade', 'plugin', 'station'], ['hope', 'year', 'festival', 'crashy', 'year', 'iphone', 'app']]\n"
     ]
    }
   ],
   "source": [
    "print(negative_tweets[:2])"
   ]
  },
  {
   "cell_type": "code",
   "execution_count": 48,
   "metadata": {},
   "outputs": [],
   "source": [
    "sentiment_pos = [item for sublist in positive_tweets for item in sublist]\n",
    "sentiment_neg = [item for sublist in negative_tweets for item in sublist]"
   ]
  },
  {
   "cell_type": "code",
   "execution_count": 49,
   "metadata": {},
   "outputs": [],
   "source": [
    "sentiment_pos_freq = FreqDist(sentiment_pos)\n",
    "sentiment_neg_freq = FreqDist(sentiment_neg)"
   ]
  },
  {
   "cell_type": "code",
   "execution_count": 69,
   "metadata": {},
   "outputs": [
    {
     "name": "stdout",
     "output_type": "stream",
     "text": [
      "Most common Positve Sentiments Words\n"
     ]
    },
    {
     "data": {
      "text/plain": [
       "[('ipad', 1002),\n",
       " ('apple', 925),\n",
       " ('google', 716),\n",
       " ('store', 554),\n",
       " ('iphone', 523),\n",
       " ('2', 503),\n",
       " ('quot', 464),\n",
       " ('app', 396),\n",
       " ('new', 359),\n",
       " ('austin', 294),\n",
       " ('amp', 211),\n",
       " ('ipad2', 209),\n",
       " ('android', 198),\n",
       " ('get', 180),\n",
       " ('launch', 174),\n",
       " ('pop-up', 151),\n",
       " ('one', 149),\n",
       " ('party', 148),\n",
       " ('line', 143),\n",
       " ('great', 137)]"
      ]
     },
     "execution_count": 69,
     "metadata": {},
     "output_type": "execute_result"
    }
   ],
   "source": [
    "print('Most common Positve Sentiments Words')\n",
    "sentiment_pos_freq.most_common(20)"
   ]
  },
  {
   "cell_type": "code",
   "execution_count": 70,
   "metadata": {},
   "outputs": [
    {
     "name": "stdout",
     "output_type": "stream",
     "text": [
      "Most common Negative Sentiments Words\n"
     ]
    },
    {
     "data": {
      "text/plain": [
       "[('ipad', 188),\n",
       " ('quot', 175),\n",
       " ('iphone', 161),\n",
       " ('google', 145),\n",
       " ('apple', 120),\n",
       " ('2', 65),\n",
       " ('app', 60),\n",
       " ('store', 47),\n",
       " ('new', 43),\n",
       " ('like', 42),\n",
       " ('circle', 37),\n",
       " ('need', 35),\n",
       " ('social', 31),\n",
       " ('apps', 30),\n",
       " ('people', 29),\n",
       " ('design', 28),\n",
       " ('get', 25),\n",
       " ('android', 24),\n",
       " ('austin', 24),\n",
       " ('one', 23)]"
      ]
     },
     "execution_count": 70,
     "metadata": {},
     "output_type": "execute_result"
    }
   ],
   "source": [
    "print('Most common Negative Sentiments Words')\n",
    "sentiment_neg_freq.most_common(20)"
   ]
  },
  {
   "cell_type": "code",
   "execution_count": 52,
   "metadata": {
    "scrolled": true
   },
   "outputs": [
    {
     "name": "stdout",
     "output_type": "stream",
     "text": [
      "Word \t\t Normalized Frequency\n",
      "\n",
      "ipad \t\t 0.03321\n",
      "apple \t\t 0.03065\n",
      "google \t\t 0.02373\n",
      "store \t\t 0.01836\n",
      "iphone \t\t 0.01733\n",
      "2 \t\t 0.01667\n",
      "quot \t\t 0.01538\n",
      "app \t\t 0.01312\n",
      "new \t\t 0.0119\n",
      "austin \t\t 0.009743\n",
      "amp \t\t 0.006993\n",
      "ipad2 \t\t 0.006926\n",
      "android \t\t 0.006562\n",
      "get \t\t 0.005965\n",
      "launch \t\t 0.005766\n",
      "pop-up \t\t 0.005004\n",
      "one \t\t 0.004938\n",
      "party \t\t 0.004905\n",
      "line \t\t 0.004739\n",
      "great \t\t 0.00454\n",
      "time \t\t 0.00454\n",
      "free \t\t 0.004143\n",
      "social \t\t 0.004109\n",
      "via \t\t 0.003977\n",
      "cool \t\t 0.003977\n"
     ]
    }
   ],
   "source": [
    "#Positive tweets normalized frequency\n",
    "positive_tweets_total_word_count = sum(sentiment_pos_freq.values())\n",
    "positive_tweet_top_25 = sentiment_pos_freq.most_common(25)\n",
    "print(\"Word \\t\\t Normalized Frequency\")\n",
    "print()\n",
    "for word in positive_tweet_top_25:\n",
    "    normalized_frequency = word[1]/positive_tweets_total_word_count\n",
    "    print(\"{} \\t\\t {:.4}\".format(word[0], normalized_frequency))"
   ]
  },
  {
   "cell_type": "code",
   "execution_count": 53,
   "metadata": {},
   "outputs": [
    {
     "name": "stdout",
     "output_type": "stream",
     "text": [
      "Word \t\t Normalized Frequency\n",
      "\n",
      "ipad \t\t 0.03116\n",
      "quot \t\t 0.029\n",
      "iphone \t\t 0.02668\n",
      "google \t\t 0.02403\n",
      "apple \t\t 0.01989\n",
      "2 \t\t 0.01077\n",
      "app \t\t 0.009944\n",
      "store \t\t 0.007789\n",
      "new \t\t 0.007126\n",
      "like \t\t 0.006961\n",
      "circle \t\t 0.006132\n",
      "need \t\t 0.0058\n",
      "social \t\t 0.005138\n",
      "apps \t\t 0.004972\n",
      "people \t\t 0.004806\n",
      "design \t\t 0.00464\n",
      "get \t\t 0.004143\n",
      "android \t\t 0.003977\n",
      "austin \t\t 0.003977\n",
      "one \t\t 0.003812\n",
      "think \t\t 0.003812\n",
      "time \t\t 0.003812\n",
      "amp \t\t 0.003646\n",
      "launch \t\t 0.003646\n",
      "would \t\t 0.00348\n"
     ]
    }
   ],
   "source": [
    "#Negative tweets normalized frequency\n",
    "negative_tweets_total_word_count = sum(sentiment_neg_freq.values())\n",
    "negative_tweet_top_25 = sentiment_neg_freq.most_common(25)\n",
    "print(\"Word \\t\\t Normalized Frequency\")\n",
    "print()\n",
    "for word in negative_tweet_top_25:\n",
    "    normalized_frequency = word[1]/negative_tweets_total_word_count\n",
    "    print(\"{} \\t\\t {:.4}\".format(word[0], normalized_frequency))"
   ]
  },
  {
   "cell_type": "code",
   "execution_count": 54,
   "metadata": {},
   "outputs": [],
   "source": [
    "# create counts of satire and not satire with values and words\n",
    "positive_tweets_bar_counts = [x[1] for x in sentiment_pos_freq.most_common(25)]\n",
    "positive_tweets_bar_words = [x[0] for x in sentiment_pos_freq.most_common(25)]\n",
    "\n",
    "negative_tweets_bar_counts = [x[1] for x in sentiment_neg_freq.most_common(25)]\n",
    "negative_tweets_bar_words = [x[0] for x in sentiment_neg_freq.most_common(25)]"
   ]
  },
  {
   "cell_type": "code",
   "execution_count": null,
   "metadata": {},
   "outputs": [],
   "source": []
  },
  {
   "cell_type": "code",
   "execution_count": 55,
   "metadata": {},
   "outputs": [],
   "source": [
    "from wordcloud import WordCloud\n",
    "pos_tweet_dictionary = dict(zip(positive_tweets_bar_words, positive_tweets_bar_counts))\n",
    "neg_tweet_dictionary = dict(zip(negative_tweets_bar_words, negative_tweets_bar_counts))"
   ]
  },
  {
   "cell_type": "code",
   "execution_count": 56,
   "metadata": {},
   "outputs": [
    {
     "data": {
      "text/plain": [
       "{'ipad': 1002,\n",
       " 'apple': 925,\n",
       " 'google': 716,\n",
       " 'store': 554,\n",
       " 'iphone': 523,\n",
       " '2': 503,\n",
       " 'quot': 464,\n",
       " 'app': 396,\n",
       " 'new': 359,\n",
       " 'austin': 294,\n",
       " 'amp': 211,\n",
       " 'ipad2': 209,\n",
       " 'android': 198,\n",
       " 'get': 180,\n",
       " 'launch': 174,\n",
       " 'pop-up': 151,\n",
       " 'one': 149,\n",
       " 'party': 148,\n",
       " 'line': 143,\n",
       " 'great': 137,\n",
       " 'time': 137,\n",
       " 'free': 125,\n",
       " 'social': 124,\n",
       " 'via': 120,\n",
       " 'cool': 120}"
      ]
     },
     "execution_count": 56,
     "metadata": {},
     "output_type": "execute_result"
    }
   ],
   "source": [
    "pos_tweet_dictionary"
   ]
  },
  {
   "cell_type": "code",
   "execution_count": 57,
   "metadata": {},
   "outputs": [
    {
     "data": {
      "image/png": "[encoded data removed]",
      "text/plain": [
       "<Figure size 720x720 with 1 Axes>"
      ]
     },
     "metadata": {},
     "output_type": "display_data"
    }
   ],
   "source": [
    "wordcloud = WordCloud(colormap='Spectral').generate_from_frequencies(pos_tweet_dictionary)\n",
    "\n",
    "# Display the generated image w/ matplotlib:\n",
    "\n",
    "plt.figure(figsize=(10,10), facecolor='k')\n",
    "plt.imshow(wordcloud, interpolation='bilinear')\n",
    "plt.axis(\"off\")\n",
    "plt.tight_layout(pad=0)\n",
    "\n",
    "# Uncomment the next line if you want to save your image:\n",
    "# plt.savefig('satire_wordcloud.png')\n",
    "\n",
    "plt.show()"
   ]
  },
  {
   "cell_type": "markdown",
   "metadata": {},
   "source": [
    "## GridSearch:"
   ]
  },
  {
   "cell_type": "code",
   "execution_count": 58,
   "metadata": {},
   "outputs": [
    {
     "data": {
      "text/plain": [
       "GridSearchCV(cv=3, estimator=RandomForestClassifier(), n_jobs=4,\n",
       "             param_grid={'criterion': ['gini', 'entropy'],\n",
       "                         'max_depth': [1, 2, 3],\n",
       "                         'max_leaf_nodes': [1, 2, 3, 5, 'None'],\n",
       "                         'min_samples_leaf': [1, 3, 5],\n",
       "                         'min_weight_fraction_leaf': [0.0, 0.1, 0.2, 0.3, 0.4],\n",
       "                         'n_estimators': [3, 5, 7]},\n",
       "             return_train_score=True, scoring='recall')"
      ]
     },
     "execution_count": 58,
     "metadata": {},
     "output_type": "execute_result"
    }
   ],
   "source": [
    "rf_classifier = RandomForestClassifier()\n",
    "parameters = {\n",
    "     \"n_estimators\"    : [3, 5, 7],\n",
    "     \"criterion\": ['gini', 'entropy'],\n",
    "     \"max_depth\"        : [ 1, 2, 3],\n",
    "     \"min_samples_leaf\" : [ 1, 3, 5],\n",
    "     \"min_weight_fraction_leaf\" : [ 0.0, 0.1, 0.2 , 0.3, 0.4 ],\n",
    "     \"max_leaf_nodes\"   : [1, 2, 3, 5, 'None']\n",
    "     }\n",
    "\n",
    "grid = GridSearchCV(rf_classifier,\n",
    "                    parameters, n_jobs=4,\n",
    "                    scoring=\"recall\",\n",
    "                    cv=3,\n",
    "                    return_train_score=True)\n",
    "\n",
    "grid.fit(tf_idf_data_train, y_train)"
   ]
  },
  {
   "cell_type": "code",
   "execution_count": 59,
   "metadata": {},
   "outputs": [
    {
     "data": {
      "text/plain": [
       "{'criterion': 'gini',\n",
       " 'max_depth': 1,\n",
       " 'max_leaf_nodes': 2,\n",
       " 'min_samples_leaf': 1,\n",
       " 'min_weight_fraction_leaf': 0.0,\n",
       " 'n_estimators': 3}"
      ]
     },
     "execution_count": 59,
     "metadata": {},
     "output_type": "execute_result"
    }
   ],
   "source": [
    "#Looking for the most optimal parameters\n",
    "\n",
    "# {'criterion': 'gini',\n",
    "#  'max_depth': 3,\n",
    "#  'max_leaf_nodes': 5,\n",
    "#  'min_samples_leaf': 1,\n",
    "#  'min_weight_fraction_leaf': 0.0,\n",
    "#  'n_estimators': 5}\n",
    "grid.best_params_ "
   ]
  },
  {
   "cell_type": "code",
   "execution_count": 60,
   "metadata": {},
   "outputs": [],
   "source": [
    "best_params = grid.best_params_ "
   ]
  },
  {
   "cell_type": "code",
   "execution_count": 61,
   "metadata": {},
   "outputs": [
    {
     "data": {
      "text/plain": [
       "array([0., 0., 0., ..., 0., 0., 0.])"
      ]
     },
     "execution_count": 61,
     "metadata": {},
     "output_type": "execute_result"
    }
   ],
   "source": [
    "#taking a look at the most important features\n",
    "grid.best_estimator_.feature_importances_"
   ]
  },
  {
   "cell_type": "markdown",
   "metadata": {},
   "source": [
    "## Final Model:"
   ]
  },
  {
   "cell_type": "code",
   "execution_count": 62,
   "metadata": {
    "scrolled": true
   },
   "outputs": [],
   "source": [
    "rf_classifier = RandomForestClassifier(**best_params)\n",
    "\n",
    "rf_classifier.fit(X_train_resampled, y_train_resampled)\n",
    "                             \n",
    "rf_train_preds = rf_classifier.predict(X_train_resampled)\n",
    "rf_test_preds = rf_classifier.predict(tf_idf_data_test)"
   ]
  },
  {
   "cell_type": "code",
   "execution_count": 63,
   "metadata": {},
   "outputs": [
    {
     "name": "stdout",
     "output_type": "stream",
     "text": [
      "Random Forest\n",
      "Training Accuracy: 0.555 \t\t Testing Accuracy: 0.693\n"
     ]
    },
    {
     "data": {
      "image/png": "[encoded data removed]",
      "text/plain": [
       "<Figure size 432x288 with 2 Axes>"
      ]
     },
     "metadata": {
      "needs_background": "light"
     },
     "output_type": "display_data"
    }
   ],
   "source": [
    "rf_train_score = accuracy_score(y_train_resampled, rf_train_preds)\n",
    "rf_test_score = accuracy_score(y_test, rf_test_preds)\n",
    "plot_confusion_matrix(rf_classifier, tf_idf_data_test, y_test, values_format='.3g')\n",
    "print('Random Forest')\n",
    "print(\"Training Accuracy: {:.4} \\t\\t Testing Accuracy: {:.4}\".format(rf_train_score, rf_test_score))\n"
   ]
  }
 ],
 "metadata": {
  "kernelspec": {
   "display_name": "Python [conda env:learn-env] *",
   "language": "python",
   "name": "conda-env-learn-env-py"
  },
  "language_info": {
   "codemirror_mode": {
    "name": "ipython",
    "version": 3
   },
   "file_extension": ".py",
   "mimetype": "text/x-python",
   "name": "python",
   "nbconvert_exporter": "python",
   "pygments_lexer": "ipython3",
   "version": "3.6.9"
  }
 },
 "nbformat": 4,
 "nbformat_minor": 2
}
